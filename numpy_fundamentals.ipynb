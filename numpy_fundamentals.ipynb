{
 "cells": [
  {
   "cell_type": "raw",
   "id": "fdd0eda6-60fa-4c62-87a2-3bf0c7b9660f",
   "metadata": {},
   "source": [
    "numpy: it is a library used for scientific computing in python. it create n-dimensional arrays of homo geneous data type.Homogeneous data type means every item has same data type."
   ]
  },
  {
   "cell_type": "raw",
   "id": "1fbb76ba-b573-4303-ab0c-0af6d9c114ea",
   "metadata": {},
   "source": [
    "why numpy is necessary?\n",
    "NumPy arrays can execute advanced mathematical operations with large data sets more efficiently and with less code than when using Python's built-in lists"
   ]
  },
  {
   "cell_type": "raw",
   "id": "a39af7d4-0d71-4617-89f5-2b54e597a8f5",
   "metadata": {},
   "source": [
    "Numpy VS Python sequence\n",
    "1. Numpy arrays have a fixed size at creation, unlike python lists can grow dynamically.Changing the size of an ndarray will create a new array and delete the original.\n",
    "2. elements in a Numpy array are all required to be of the same data type, and thus will be in the same size in memory.\n",
    "3. NumPy arrays facilitate advanced mathematical and other types of operations on large numbers of data. Typically, operations are executed more efficiently and with less code than is posssinle using python's built in sequence.\n"
   ]
  },
  {
   "cell_type": "raw",
   "id": "da5bd868-8e7b-4d29-bbfd-50a804a7fcd3",
   "metadata": {},
   "source": [
    "Creating Numpy arrays:\n",
    "1. 1D array or vector"
   ]
  },
  {
   "cell_type": "code",
   "execution_count": 6,
   "id": "44f4344d-3c57-40ca-a8aa-2d9feb8b3bf8",
   "metadata": {},
   "outputs": [
    {
     "name": "stdout",
     "output_type": "stream",
     "text": [
      "[2 3 4]\n",
      "<class 'numpy.ndarray'>\n"
     ]
    }
   ],
   "source": [
    "import numpy as np \n",
    "a = np.array([2,3,4])\n",
    "print(a)\n",
    "print(type(a))\n"
   ]
  },
  {
   "cell_type": "raw",
   "id": "669c1ea0-8c5b-4be1-89c6-0ad0638fa2b1",
   "metadata": {},
   "source": [
    "2D array or matrix form:"
   ]
  },
  {
   "cell_type": "code",
   "execution_count": 7,
   "id": "ff8e4079-c34f-47e5-9b4d-741cce36c0e4",
   "metadata": {},
   "outputs": [
    {
     "name": "stdout",
     "output_type": "stream",
     "text": [
      "[[1 3 5]\n",
      " [2 4 6]]\n"
     ]
    }
   ],
   "source": [
    "b = np.array([[1,3,5],[2,4,6]])\n",
    "print(b)"
   ]
  },
  {
   "cell_type": "raw",
   "id": "475ae680-846b-48a1-8e10-17126699b7de",
   "metadata": {},
   "source": [
    "3D array or tensor:"
   ]
  },
  {
   "cell_type": "code",
   "execution_count": 9,
   "id": "2c2fd5ee-7ebe-48ef-9532-9acd72652b65",
   "metadata": {},
   "outputs": [
    {
     "name": "stdout",
     "output_type": "stream",
     "text": [
      "[[1 2]\n",
      " [3 4]\n",
      " [4 5]\n",
      " [7 8]]\n"
     ]
    }
   ],
   "source": [
    "c =  np.array([[1,2],[3,4],[4,5],[7,8]])\n",
    "print(c)"
   ]
  },
  {
   "cell_type": "raw",
   "id": "81bcf911-abde-4f23-bdbf-95fbf60eaf32",
   "metadata": {},
   "source": [
    "creating array of different datatype:"
   ]
  },
  {
   "cell_type": "code",
   "execution_count": 18,
   "id": "f8decd3a-3197-45cc-8823-bd79bcadfe9b",
   "metadata": {},
   "outputs": [
    {
     "name": "stdout",
     "output_type": "stream",
     "text": [
      "[1. 2. 3.]\n",
      "[ True False  True]\n",
      "[1.+0.j 0.+0.j 1.+0.j]\n"
     ]
    }
   ],
   "source": [
    " a = np.array([1,2,3],dtype= float)\n",
    " b = np.array([1,0,3],dtype= bool)\n",
    " c = np.array([1,0,1], dtype = complex)\n",
    "print(a)\n",
    "print(b)\n",
    "print(c)"
   ]
  },
  {
   "cell_type": "raw",
   "id": "497177ce-ab4e-4e28-b0c0-566ebe723f01",
   "metadata": {},
   "source": [
    "Numpy arange function:"
   ]
  },
  {
   "cell_type": "code",
   "execution_count": 2,
   "id": "6d6f4c81-39d0-4e82-bf3e-120c588be92f",
   "metadata": {},
   "outputs": [],
   "source": [
    "import numpy as np"
   ]
  },
  {
   "cell_type": "code",
   "execution_count": 3,
   "id": "3dff346e-9910-4d9f-9c92-da20a0b4a7fd",
   "metadata": {},
   "outputs": [
    {
     "data": {
      "text/plain": [
       "array([1, 3, 5, 7, 9])"
      ]
     },
     "execution_count": 3,
     "metadata": {},
     "output_type": "execute_result"
    }
   ],
   "source": [
    "np.arange(1,10,2)"
   ]
  },
  {
   "cell_type": "code",
   "execution_count": 9,
   "id": "219832a6-d045-4ce8-a231-1c94c2e1adac",
   "metadata": {},
   "outputs": [
    {
     "data": {
      "text/plain": [
       "array([[1, 2, 3],\n",
       "       [4, 5, 6],\n",
       "       [7, 8, 9]])"
      ]
     },
     "execution_count": 9,
     "metadata": {},
     "output_type": "execute_result"
    }
   ],
   "source": [
    "# with reshape means can be converted into rows and column and in matrix form\n",
    "np.arange(1,10).reshape(3,3)"
   ]
  },
  {
   "cell_type": "code",
   "execution_count": 15,
   "id": "268921f6-4506-4e9e-99ed-7776fe058091",
   "metadata": {},
   "outputs": [
    {
     "name": "stdout",
     "output_type": "stream",
     "text": [
      "[[1. 1. 1. 1.]\n",
      " [1. 1. 1. 1.]\n",
      " [1. 1. 1. 1.]\n",
      " [1. 1. 1. 1.]]\n",
      "[[0. 0. 0.]\n",
      " [0. 0. 0.]\n",
      " [0. 0. 0.]]\n",
      "[[0.99188444 0.6809485  0.33805622]\n",
      " [0.32154276 0.56954177 0.03632574]\n",
      " [0.9761524  0.63433684 0.83177664]]\n"
     ]
    }
   ],
   "source": [
    "#np.ones and np.zeros used in initialization of array\n",
    "a = np.ones((4,4))\n",
    "b = np.zeros((3,3))\n",
    "c = np.random.random((3,3))\n",
    "print(a)\n",
    "print(b)\n",
    "print(c)"
   ]
  },
  {
   "cell_type": "code",
   "execution_count": 16,
   "id": "171f2990-e843-4d5e-9c79-80d7eb9deb6c",
   "metadata": {},
   "outputs": [
    {
     "data": {
      "text/plain": [
       "array([-5. , -2.5,  0. ,  2.5,  5. ])"
      ]
     },
     "execution_count": 16,
     "metadata": {},
     "output_type": "execute_result"
    }
   ],
   "source": [
    "# np.linspace means linear space like it generate numbers with same space where its syntax is (lower range, upper range, total no of required items between that range)\n",
    "np.linspace(-5,5,5)\n",
    "            "
   ]
  },
  {
   "cell_type": "code",
   "execution_count": 119,
   "id": "0542f22a-12bb-409e-a270-6d3aa7dcc0b7",
   "metadata": {},
   "outputs": [
    {
     "data": {
      "text/plain": [
       "array([[1., 0., 0., 0.],\n",
       "       [0., 1., 0., 0.],\n",
       "       [0., 0., 1., 0.],\n",
       "       [0., 0., 0., 1.]])"
      ]
     },
     "execution_count": 119,
     "metadata": {},
     "output_type": "execute_result"
    }
   ],
   "source": [
    "# np.identity is used to create identity matrix\n",
    "np.identity(4)"
   ]
  },
  {
   "cell_type": "code",
   "execution_count": null,
   "id": "12e2d2ee-bb37-42f6-9191-b0a47bf7452c",
   "metadata": {},
   "outputs": [],
   "source": [
    "#Array attribute\n"
   ]
  },
  {
   "cell_type": "code",
   "execution_count": 35,
   "id": "5468a3cd-d88c-4005-b4bf-d81e92171ea5",
   "metadata": {},
   "outputs": [],
   "source": [
    "a1 = np.arange(10)\n",
    "a2 = np.arange(12,dtype = float).reshape(3,4)\n",
    "a3 = np.arange(8).reshape(2,2,2)"
   ]
  },
  {
   "cell_type": "code",
   "execution_count": 117,
   "id": "e418fcd4-7246-467a-babb-dd28b47645aa",
   "metadata": {},
   "outputs": [
    {
     "data": {
      "text/plain": [
       "3"
      ]
     },
     "execution_count": 117,
     "metadata": {},
     "output_type": "execute_result"
    }
   ],
   "source": [
    "#ndim means number of dimensions:\n",
    "np.ndim(a3)\n"
   ]
  },
  {
   "cell_type": "code",
   "execution_count": 120,
   "id": "4a7a5831-fc3a-4baa-a69f-10e52525fad8",
   "metadata": {},
   "outputs": [
    {
     "name": "stdout",
     "output_type": "stream",
     "text": [
      "(3, 4)\n"
     ]
    },
    {
     "data": {
      "text/plain": [
       "array([[[ 0,  1,  2],\n",
       "        [ 3,  4,  5],\n",
       "        [ 6,  7,  8]],\n",
       "\n",
       "       [[ 9, 10, 11],\n",
       "        [12, 13, 14],\n",
       "        [15, 16, 17]],\n",
       "\n",
       "       [[18, 19, 20],\n",
       "        [21, 22, 23],\n",
       "        [24, 25, 26]]])"
      ]
     },
     "execution_count": 120,
     "metadata": {},
     "output_type": "execute_result"
    }
   ],
   "source": [
    "# shape tells no of rows and column\n",
    "print(a2.shape)\n",
    "a3"
   ]
  },
  {
   "cell_type": "code",
   "execution_count": 121,
   "id": "6bca207f-cd46-4e68-9e66-b1ee7985b921",
   "metadata": {},
   "outputs": [
    {
     "data": {
      "text/plain": [
       "27"
      ]
     },
     "execution_count": 121,
     "metadata": {},
     "output_type": "execute_result"
    }
   ],
   "source": [
    "#size tells no of items\n",
    "a3.size"
   ]
  },
  {
   "cell_type": "code",
   "execution_count": 44,
   "id": "9ad898df-74e4-45da-9bcd-1c9c64fe782c",
   "metadata": {},
   "outputs": [
    {
     "data": {
      "text/plain": [
       "4"
      ]
     },
     "execution_count": 44,
     "metadata": {},
     "output_type": "execute_result"
    }
   ],
   "source": [
    "#items size tells how much space is occupied in memory\n",
    "a3.itemsize"
   ]
  },
  {
   "cell_type": "code",
   "execution_count": 45,
   "id": "ad13e5ee-5225-442e-bd74-8e60a4a127e7",
   "metadata": {},
   "outputs": [
    {
     "name": "stdout",
     "output_type": "stream",
     "text": [
      "int32\n",
      "float64\n",
      "int32\n"
     ]
    }
   ],
   "source": [
    "print(a1.dtype)\n",
    "print(a2.dtype)\n",
    "print(a3.dtype)"
   ]
  },
  {
   "cell_type": "code",
   "execution_count": 50,
   "id": "e099fdf4-dae3-4ef7-87aa-09e68db854af",
   "metadata": {},
   "outputs": [
    {
     "data": {
      "text/plain": [
       "array([[[0, 1],\n",
       "        [2, 3]],\n",
       "\n",
       "       [[4, 5],\n",
       "        [6, 7]]], dtype=int64)"
      ]
     },
     "execution_count": 50,
     "metadata": {},
     "output_type": "execute_result"
    }
   ],
   "source": [
    "# changing datatype astype\n",
    "a3.astype(np.int64)\n"
   ]
  },
  {
   "cell_type": "raw",
   "id": "48351e01-54d0-4a01-a4e8-e4469011e3cd",
   "metadata": {},
   "source": [
    "Array operations:"
   ]
  },
  {
   "cell_type": "code",
   "execution_count": 53,
   "id": "53caeabf-5c28-41f6-af32-b8ce625b1767",
   "metadata": {},
   "outputs": [
    {
     "name": "stdout",
     "output_type": "stream",
     "text": [
      "[[ 0  1  2  3]\n",
      " [ 4  5  6  7]\n",
      " [ 8  9 10 11]]\n",
      "[[12 13 14 15]\n",
      " [16 17 18 19]\n",
      " [20 21 22 23]]\n"
     ]
    }
   ],
   "source": [
    "a1 = np.arange(12).reshape(3,4)\n",
    "a2 = np.arange(12,24).reshape(3,4)\n",
    "print(a1)\n",
    "print(a2)"
   ]
  },
  {
   "cell_type": "code",
   "execution_count": 56,
   "id": "3ef896ca-17c3-4c79-8c29-32e9476fcd95",
   "metadata": {},
   "outputs": [
    {
     "data": {
      "text/plain": [
       "array([[ 0,  2,  4,  6],\n",
       "       [ 8, 10, 12, 14],\n",
       "       [16, 18, 20, 22]])"
      ]
     },
     "execution_count": 56,
     "metadata": {},
     "output_type": "execute_result"
    }
   ],
   "source": [
    "#scalar operations means doing operations in single numpy array\n",
    "a1*2  #+,-,**,/,%, all can be performed#"
   ]
  },
  {
   "cell_type": "code",
   "execution_count": 57,
   "id": "4e4e89d6-e209-42fa-b359-56bf4867d5c2",
   "metadata": {},
   "outputs": [
    {
     "data": {
      "text/plain": [
       "array([[False, False, False, False],\n",
       "       [False, False,  True,  True],\n",
       "       [ True,  True,  True,  True]])"
      ]
     },
     "execution_count": 57,
     "metadata": {},
     "output_type": "execute_result"
    }
   ],
   "source": [
    "# relational operators or comparison operator\n",
    "a1>5"
   ]
  },
  {
   "cell_type": "code",
   "execution_count": 58,
   "id": "70967744-b6c4-4a98-a832-aa80ff066ef0",
   "metadata": {},
   "outputs": [
    {
     "data": {
      "text/plain": [
       "array([[12, 14, 16, 18],\n",
       "       [20, 22, 24, 26],\n",
       "       [28, 30, 32, 34]])"
      ]
     },
     "execution_count": 58,
     "metadata": {},
     "output_type": "execute_result"
    }
   ],
   "source": [
    "#vector operations can be performed with two or more numpy arrays of same size\n",
    "a1+a2"
   ]
  },
  {
   "cell_type": "code",
   "execution_count": 1,
   "id": "5dbdce3e-1ea9-47b1-ada3-7b8b2ecafc47",
   "metadata": {},
   "outputs": [],
   "source": [
    "import numpy as np"
   ]
  },
  {
   "cell_type": "raw",
   "id": "e6be3c14-5f69-472b-aa07-4f87f217cf24",
   "metadata": {},
   "source": [
    "Array functions"
   ]
  },
  {
   "cell_type": "code",
   "execution_count": 3,
   "id": "a1f4b30d-e448-4d3a-8c29-cbfbaeb32664",
   "metadata": {},
   "outputs": [
    {
     "data": {
      "text/plain": [
       "array([[22., 22., 24.],\n",
       "       [17., 12., 24.],\n",
       "       [34., 39., 31.]])"
      ]
     },
     "execution_count": 3,
     "metadata": {},
     "output_type": "execute_result"
    }
   ],
   "source": [
    "a1 = np.random.random((3,3))\n",
    "a1 = np.round(a1*50)\n",
    "a1"
   ]
  },
  {
   "cell_type": "code",
   "execution_count": 8,
   "id": "50b553a3-b0e0-4409-a234-8be402231064",
   "metadata": {},
   "outputs": [
    {
     "name": "stdout",
     "output_type": "stream",
     "text": [
      "39.0\n",
      "12.0\n",
      "225.0\n",
      "2337777801216.0\n"
     ]
    }
   ],
   "source": [
    "#max/min/sum/product\n",
    "a = np.max(a1)\n",
    "b = np.min(a1)\n",
    "c = np.sum(a1)\n",
    "d = np.prod(a1)\n",
    "print(a)\n",
    "print(b)\n",
    "print(c)\n",
    "print(d)\n"
   ]
  },
  {
   "cell_type": "code",
   "execution_count": 9,
   "id": "baa0200a-aaa0-42ef-8d9d-003821452042",
   "metadata": {},
   "outputs": [
    {
     "data": {
      "text/plain": [
       "array([24., 24., 39.])"
      ]
     },
     "execution_count": 9,
     "metadata": {},
     "output_type": "execute_result"
    }
   ],
   "source": [
    "#to find its item from each row and column \n",
    "#0-> column and 1 ->row\n",
    "np.max(a1,axis = 1)"
   ]
  },
  {
   "cell_type": "code",
   "execution_count": 11,
   "id": "83fe7d8f-8729-4537-ace3-b6ea2751eea9",
   "metadata": {},
   "outputs": [
    {
     "data": {
      "text/plain": [
       "array([17., 12., 24.])"
      ]
     },
     "execution_count": 11,
     "metadata": {},
     "output_type": "execute_result"
    }
   ],
   "source": [
    "np.min(a1,axis=0)"
   ]
  },
  {
   "cell_type": "code",
   "execution_count": 12,
   "id": "8f791d14-1d50-406f-be1e-3e2d09196cff",
   "metadata": {},
   "outputs": [
    {
     "data": {
      "text/plain": [
       "25.0"
      ]
     },
     "execution_count": 12,
     "metadata": {},
     "output_type": "execute_result"
    }
   ],
   "source": [
    "#statistical related functions:\n",
    "#mean/median/std/var\n",
    "np.mean(a1)"
   ]
  },
  {
   "cell_type": "code",
   "execution_count": 13,
   "id": "f5fd2941-e27d-4990-b1eb-b22701bbb1b2",
   "metadata": {},
   "outputs": [
    {
     "data": {
      "text/plain": [
       "array([22.66666667, 17.66666667, 34.66666667])"
      ]
     },
     "execution_count": 13,
     "metadata": {},
     "output_type": "execute_result"
    }
   ],
   "source": [
    "#to find its mean row wise or column wise we have:\n",
    "np.mean(a1,axis = 1)"
   ]
  },
  {
   "cell_type": "code",
   "execution_count": 14,
   "id": "8aa105c7-b172-4003-873e-430be73d0a86",
   "metadata": {},
   "outputs": [
    {
     "data": {
      "text/plain": [
       "24.0"
      ]
     },
     "execution_count": 14,
     "metadata": {},
     "output_type": "execute_result"
    }
   ],
   "source": [
    "np.median(a1)"
   ]
  },
  {
   "cell_type": "code",
   "execution_count": 15,
   "id": "0a140008-beed-4175-9b7e-d094b42bf55f",
   "metadata": {},
   "outputs": [
    {
     "data": {
      "text/plain": [
       "7.930251502246879"
      ]
     },
     "execution_count": 15,
     "metadata": {},
     "output_type": "execute_result"
    }
   ],
   "source": [
    "np.std(a1)"
   ]
  },
  {
   "cell_type": "code",
   "execution_count": 16,
   "id": "4e6626f7-0d7a-477e-976f-b931fd3c0773",
   "metadata": {},
   "outputs": [
    {
     "data": {
      "text/plain": [
       "62.888888888888886"
      ]
     },
     "execution_count": 16,
     "metadata": {},
     "output_type": "execute_result"
    }
   ],
   "source": [
    "np.var(a1)"
   ]
  },
  {
   "cell_type": "code",
   "execution_count": 17,
   "id": "d33439ff-5aaf-4638-b9b5-7f1c593e1aae",
   "metadata": {},
   "outputs": [
    {
     "data": {
      "text/plain": [
       "array([[-0.99996083, -0.99996083,  0.42417901],\n",
       "       [-0.27516334,  0.84385396,  0.42417901],\n",
       "       [-0.84857027,  0.26664293,  0.91474236]])"
      ]
     },
     "execution_count": 17,
     "metadata": {},
     "output_type": "execute_result"
    }
   ],
   "source": [
    "#trignometric functions:\n",
    "np.cos(a1)"
   ]
  },
  {
   "cell_type": "code",
   "execution_count": 19,
   "id": "270a7e0a-0acc-4e9b-85a7-c6f5b671e6ad",
   "metadata": {},
   "outputs": [
    {
     "data": {
      "text/plain": [
       "array([[114, 120, 126],\n",
       "       [378, 400, 422],\n",
       "       [642, 680, 718]])"
      ]
     },
     "execution_count": 19,
     "metadata": {},
     "output_type": "execute_result"
    }
   ],
   "source": [
    "#dot product is applicable when column of first matrix is equal to row of second matrix\n",
    "a2 = np.arange(12).reshape(3,4)\n",
    "a3 = np.arange(12,24).reshape(4,3)\n",
    "np.dot(a2,a3)"
   ]
  },
  {
   "cell_type": "code",
   "execution_count": 21,
   "id": "49d2718c-95c3-4906-b382-7faa9135fc47",
   "metadata": {},
   "outputs": [
    {
     "data": {
      "text/plain": [
       "array([[3.09104245, 3.09104245, 3.17805383],\n",
       "       [2.83321334, 2.48490665, 3.17805383],\n",
       "       [3.52636052, 3.66356165, 3.4339872 ]])"
      ]
     },
     "execution_count": 21,
     "metadata": {},
     "output_type": "execute_result"
    }
   ],
   "source": [
    "#log and exponents\n",
    "np.log(a1)"
   ]
  },
  {
   "cell_type": "code",
   "execution_count": 22,
   "id": "72eab912-b68e-426c-bb26-1d6caf4fdcea",
   "metadata": {},
   "outputs": [
    {
     "data": {
      "text/plain": [
       "array([[3.58491285e+09, 3.58491285e+09, 2.64891221e+10],\n",
       "       [2.41549528e+07, 1.62754791e+05, 2.64891221e+10],\n",
       "       [5.83461743e+14, 8.65934004e+16, 2.90488497e+13]])"
      ]
     },
     "execution_count": 22,
     "metadata": {},
     "output_type": "execute_result"
    }
   ],
   "source": [
    "np.exp(a1)"
   ]
  },
  {
   "cell_type": "code",
   "execution_count": 28,
   "id": "6939166d-6b6a-4e21-b469-c256ed91d055",
   "metadata": {},
   "outputs": [
    {
     "data": {
      "text/plain": [
       "array([[21., 76., 69.],\n",
       "       [71., 43., 82.],\n",
       "       [78., 19., 59.]])"
      ]
     },
     "execution_count": 28,
     "metadata": {},
     "output_type": "execute_result"
    }
   ],
   "source": [
    "#round/floor/cell \n",
    "#round function round of the value to the nearest integer\n",
    "np.round(np.random.random((3,3))*100)"
   ]
  },
  {
   "cell_type": "code",
   "execution_count": 31,
   "id": "b3741fdc-2079-41cd-bfff-df411670e525",
   "metadata": {},
   "outputs": [
    {
     "data": {
      "text/plain": [
       "array([38., 96., 69.])"
      ]
     },
     "execution_count": 31,
     "metadata": {},
     "output_type": "execute_result"
    }
   ],
   "source": [
    "#floor function takes bacward like if 6.9 than floor function makes it 6\n",
    "np.floor(np.random.random((3))*100)"
   ]
  },
  {
   "cell_type": "code",
   "execution_count": 35,
   "id": "56bfb4fa-a879-4551-bf00-78e916ebed69",
   "metadata": {},
   "outputs": [
    {
     "data": {
      "text/plain": [
       "array([[ 8., 27., 32.],\n",
       "       [12.,  2., 32.],\n",
       "       [ 8., 10., 34.]])"
      ]
     },
     "execution_count": 35,
     "metadata": {},
     "output_type": "execute_result"
    }
   ],
   "source": [
    "#ceil function takes forward like if we have 6.1 than using cell function it will be 7\n",
    "np.ceil(np.random.random((3,3))*50)"
   ]
  },
  {
   "cell_type": "raw",
   "id": "20cc1983-34f4-4143-b1ec-999d9e0201a8",
   "metadata": {},
   "source": [
    "indexing and slicing:"
   ]
  },
  {
   "cell_type": "code",
   "execution_count": 39,
   "id": "4e1de8a0-2930-4ae6-b1c4-9399041b5a56",
   "metadata": {},
   "outputs": [
    {
     "data": {
      "text/plain": [
       "array([0, 1, 2, 3, 4, 5, 6, 7, 8, 9])"
      ]
     },
     "execution_count": 39,
     "metadata": {},
     "output_type": "execute_result"
    }
   ],
   "source": [
    "a1 = np.arange(10)\n",
    "a2 = np.arange(12).reshape(3,4)\n",
    "a3 = np.arange(8).reshape(2,2,2)\n",
    "a1"
   ]
  },
  {
   "cell_type": "code",
   "execution_count": 55,
   "id": "08952bb0-9d0f-4f0f-be4d-dbfcdba0bf36",
   "metadata": {},
   "outputs": [
    {
     "data": {
      "text/plain": [
       "4"
      ]
     },
     "execution_count": 55,
     "metadata": {},
     "output_type": "execute_result"
    }
   ],
   "source": [
    "a1[4]"
   ]
  },
  {
   "cell_type": "code",
   "execution_count": 45,
   "id": "5e2cea6d-2f02-4950-8002-f9e60ade2a54",
   "metadata": {},
   "outputs": [
    {
     "data": {
      "text/plain": [
       "array([[ 0,  1,  2,  3],\n",
       "       [ 4,  5,  6,  7],\n",
       "       [ 8,  9, 10, 11]])"
      ]
     },
     "execution_count": 45,
     "metadata": {},
     "output_type": "execute_result"
    }
   ],
   "source": [
    "a2"
   ]
  },
  {
   "cell_type": "code",
   "execution_count": 48,
   "id": "49ecc8b0-0ee7-4fa1-9d23-a49c41b1cc4c",
   "metadata": {},
   "outputs": [
    {
     "data": {
      "text/plain": [
       "10"
      ]
     },
     "execution_count": 48,
     "metadata": {},
     "output_type": "execute_result"
    }
   ],
   "source": [
    "a2[2,2]  # where 2 is row and 2 is column"
   ]
  },
  {
   "cell_type": "code",
   "execution_count": 49,
   "id": "f100ee5d-1160-443f-8d14-8d0809fd7fce",
   "metadata": {},
   "outputs": [
    {
     "data": {
      "text/plain": [
       "array([[[0, 1],\n",
       "        [2, 3]],\n",
       "\n",
       "       [[4, 5],\n",
       "        [6, 7]]])"
      ]
     },
     "execution_count": 49,
     "metadata": {},
     "output_type": "execute_result"
    }
   ],
   "source": [
    "a3"
   ]
  },
  {
   "cell_type": "code",
   "execution_count": 50,
   "id": "034fdf9d-4774-4fe5-b122-c944a731b1ef",
   "metadata": {},
   "outputs": [
    {
     "data": {
      "text/plain": [
       "5"
      ]
     },
     "execution_count": 50,
     "metadata": {},
     "output_type": "execute_result"
    }
   ],
   "source": [
    "a3[1,0,1]  #where first item is which 2d matrix and second item is its row and thirf items is its column"
   ]
  },
  {
   "cell_type": "code",
   "execution_count": 53,
   "id": "6e35f088-2daa-43a3-8d94-3c3c5d45d1b7",
   "metadata": {},
   "outputs": [
    {
     "data": {
      "text/plain": [
       "6"
      ]
     },
     "execution_count": 53,
     "metadata": {},
     "output_type": "execute_result"
    }
   ],
   "source": [
    "a3[1,1,0]"
   ]
  },
  {
   "cell_type": "raw",
   "id": "89a9a32c-0eca-4481-b115-6f90b7107d08",
   "metadata": {},
   "source": [
    "slicing:"
   ]
  },
  {
   "cell_type": "code",
   "execution_count": 56,
   "id": "f5dde650-a0a6-40b2-ab6b-a2df3c4c922a",
   "metadata": {},
   "outputs": [
    {
     "data": {
      "text/plain": [
       "array([0, 1, 2, 3, 4, 5, 6, 7, 8, 9])"
      ]
     },
     "execution_count": 56,
     "metadata": {},
     "output_type": "execute_result"
    }
   ],
   "source": [
    "a1"
   ]
  },
  {
   "cell_type": "code",
   "execution_count": 57,
   "id": "1e3969c2-0c3e-4684-916e-387da024de2f",
   "metadata": {},
   "outputs": [
    {
     "data": {
      "text/plain": [
       "array([2, 3, 4])"
      ]
     },
     "execution_count": 57,
     "metadata": {},
     "output_type": "execute_result"
    }
   ],
   "source": [
    "a1[2:5]"
   ]
  },
  {
   "cell_type": "code",
   "execution_count": 58,
   "id": "ea45ce3a-9475-4399-9d05-43ef33e17c88",
   "metadata": {},
   "outputs": [
    {
     "data": {
      "text/plain": [
       "array([[ 0,  1,  2,  3],\n",
       "       [ 4,  5,  6,  7],\n",
       "       [ 8,  9, 10, 11]])"
      ]
     },
     "execution_count": 58,
     "metadata": {},
     "output_type": "execute_result"
    }
   ],
   "source": [
    "a2"
   ]
  },
  {
   "cell_type": "code",
   "execution_count": 59,
   "id": "2317c006-ba07-4be2-953f-1b43b13c7b98",
   "metadata": {},
   "outputs": [
    {
     "data": {
      "text/plain": [
       "array([0, 1, 2, 3])"
      ]
     },
     "execution_count": 59,
     "metadata": {},
     "output_type": "execute_result"
    }
   ],
   "source": [
    "a2[0,:]"
   ]
  },
  {
   "cell_type": "code",
   "execution_count": 61,
   "id": "2db48ebd-4fde-473b-82a7-1a06158a9da9",
   "metadata": {},
   "outputs": [
    {
     "data": {
      "text/plain": [
       "array([4, 5, 6, 7])"
      ]
     },
     "execution_count": 61,
     "metadata": {},
     "output_type": "execute_result"
    }
   ],
   "source": [
    "a2[1,:]"
   ]
  },
  {
   "cell_type": "code",
   "execution_count": 65,
   "id": "33b16678-4168-47c8-b37e-5e4f0d68beed",
   "metadata": {},
   "outputs": [
    {
     "data": {
      "text/plain": [
       "array([ 3,  7, 11])"
      ]
     },
     "execution_count": 65,
     "metadata": {},
     "output_type": "execute_result"
    }
   ],
   "source": [
    "a2[:,3]"
   ]
  },
  {
   "cell_type": "code",
   "execution_count": 66,
   "id": "fb584280-71f5-47d8-889d-54b9ecdc5407",
   "metadata": {},
   "outputs": [
    {
     "data": {
      "text/plain": [
       "array([[ 5,  6],\n",
       "       [ 9, 10]])"
      ]
     },
     "execution_count": 66,
     "metadata": {},
     "output_type": "execute_result"
    }
   ],
   "source": [
    "a2[1:,1:3]"
   ]
  },
  {
   "cell_type": "code",
   "execution_count": 68,
   "id": "be66cd46-c665-4bb4-8414-20efbb40f5c1",
   "metadata": {},
   "outputs": [
    {
     "data": {
      "text/plain": [
       "array([[0, 1],\n",
       "       [4, 5]])"
      ]
     },
     "execution_count": 68,
     "metadata": {},
     "output_type": "execute_result"
    }
   ],
   "source": [
    "a2[0:2,0:2]"
   ]
  },
  {
   "cell_type": "code",
   "execution_count": 69,
   "id": "71dad48c-34a0-42fd-874e-72ee1a5d9ec1",
   "metadata": {},
   "outputs": [
    {
     "data": {
      "text/plain": [
       "array([[ 0,  3],\n",
       "       [ 8, 11]])"
      ]
     },
     "execution_count": 69,
     "metadata": {},
     "output_type": "execute_result"
    }
   ],
   "source": [
    "a2[::2,::3]"
   ]
  },
  {
   "cell_type": "code",
   "execution_count": 70,
   "id": "3a005421-208e-4ce6-abf4-f5d4cd6cc246",
   "metadata": {},
   "outputs": [
    {
     "data": {
      "text/plain": [
       "array([[ 1,  3],\n",
       "       [ 9, 11]])"
      ]
     },
     "execution_count": 70,
     "metadata": {},
     "output_type": "execute_result"
    }
   ],
   "source": [
    "a2[::2,1::2]"
   ]
  },
  {
   "cell_type": "code",
   "execution_count": 71,
   "id": "0e294a94-21a4-4011-a7a7-83a4dbd40b90",
   "metadata": {},
   "outputs": [
    {
     "data": {
      "text/plain": [
       "array([[1, 2],\n",
       "       [5, 6]])"
      ]
     },
     "execution_count": 71,
     "metadata": {},
     "output_type": "execute_result"
    }
   ],
   "source": [
    "a2[0:2,1:3]"
   ]
  },
  {
   "cell_type": "code",
   "execution_count": 77,
   "id": "e6f2458d-5947-4c37-9682-f09d3486e128",
   "metadata": {},
   "outputs": [
    {
     "data": {
      "text/plain": [
       "array([4, 7])"
      ]
     },
     "execution_count": 77,
     "metadata": {},
     "output_type": "execute_result"
    }
   ],
   "source": [
    "a2[1,::3]"
   ]
  },
  {
   "cell_type": "code",
   "execution_count": 80,
   "id": "22810d14-8433-4e5e-aec4-d0ff0a58a7a3",
   "metadata": {},
   "outputs": [
    {
     "data": {
      "text/plain": [
       "array([[1, 2, 3],\n",
       "       [5, 6, 7]])"
      ]
     },
     "execution_count": 80,
     "metadata": {},
     "output_type": "execute_result"
    }
   ],
   "source": [
    "a2[:2,1:]"
   ]
  },
  {
   "cell_type": "code",
   "execution_count": 83,
   "id": "43baceb4-c0a8-417a-962a-1a69b7fd2690",
   "metadata": {},
   "outputs": [
    {
     "data": {
      "text/plain": [
       "array([[[ 0,  1,  2],\n",
       "        [ 3,  4,  5],\n",
       "        [ 6,  7,  8]],\n",
       "\n",
       "       [[ 9, 10, 11],\n",
       "        [12, 13, 14],\n",
       "        [15, 16, 17]],\n",
       "\n",
       "       [[18, 19, 20],\n",
       "        [21, 22, 23],\n",
       "        [24, 25, 26]]])"
      ]
     },
     "execution_count": 83,
     "metadata": {},
     "output_type": "execute_result"
    }
   ],
   "source": [
    "a3 = np.arange(27).reshape(3,3,3)\n",
    "a3"
   ]
  },
  {
   "cell_type": "code",
   "execution_count": 84,
   "id": "eb466882-d3c5-4aa9-a752-bb6a04e676fd",
   "metadata": {},
   "outputs": [
    {
     "data": {
      "text/plain": [
       "array([[ 9, 10, 11],\n",
       "       [12, 13, 14],\n",
       "       [15, 16, 17]])"
      ]
     },
     "execution_count": 84,
     "metadata": {},
     "output_type": "execute_result"
    }
   ],
   "source": [
    "a3[1]"
   ]
  },
  {
   "cell_type": "code",
   "execution_count": 85,
   "id": "f1b4235a-755e-4bea-96b1-a167a9d3accd",
   "metadata": {},
   "outputs": [
    {
     "data": {
      "text/plain": [
       "array([[[ 0,  1,  2],\n",
       "        [ 3,  4,  5],\n",
       "        [ 6,  7,  8]],\n",
       "\n",
       "       [[18, 19, 20],\n",
       "        [21, 22, 23],\n",
       "        [24, 25, 26]]])"
      ]
     },
     "execution_count": 85,
     "metadata": {},
     "output_type": "execute_result"
    }
   ],
   "source": [
    "a3[0:3:2]"
   ]
  },
  {
   "cell_type": "code",
   "execution_count": 86,
   "id": "bb535c83-ba00-478d-a60d-80dbf1f1eb2a",
   "metadata": {},
   "outputs": [
    {
     "data": {
      "text/plain": [
       "array([[22, 23],\n",
       "       [25, 26]])"
      ]
     },
     "execution_count": 86,
     "metadata": {},
     "output_type": "execute_result"
    }
   ],
   "source": [
    "a3[2,1:,1:]"
   ]
  },
  {
   "cell_type": "code",
   "execution_count": 89,
   "id": "911f717d-d891-446d-992e-698b8d96031b",
   "metadata": {},
   "outputs": [
    {
     "data": {
      "text/plain": [
       "array([[3, 4, 5]])"
      ]
     },
     "execution_count": 89,
     "metadata": {},
     "output_type": "execute_result"
    }
   ],
   "source": [
    "a3[0,1:2]"
   ]
  },
  {
   "cell_type": "code",
   "execution_count": 90,
   "id": "f8c72742-e627-400b-98ae-6b0d5375f32a",
   "metadata": {},
   "outputs": [
    {
     "data": {
      "text/plain": [
       "array([[10],\n",
       "       [13],\n",
       "       [16]])"
      ]
     },
     "execution_count": 90,
     "metadata": {},
     "output_type": "execute_result"
    }
   ],
   "source": [
    "a3[1,:,1:2]"
   ]
  },
  {
   "cell_type": "code",
   "execution_count": 94,
   "id": "a96d7623-41eb-4ddd-86cb-5a89f4753965",
   "metadata": {},
   "outputs": [
    {
     "data": {
      "text/plain": [
       "array([[ 0,  2],\n",
       "       [18, 20]])"
      ]
     },
     "execution_count": 94,
     "metadata": {},
     "output_type": "execute_result"
    }
   ],
   "source": [
    "a3[0:3:2,0,::2]"
   ]
  },
  {
   "cell_type": "raw",
   "id": "92b34056-c73d-475d-9377-4f9373d983f3",
   "metadata": {},
   "source": [
    "Iterating:"
   ]
  },
  {
   "cell_type": "code",
   "execution_count": 95,
   "id": "2525f4d6-2efb-41da-9ebd-8d4080dc345a",
   "metadata": {},
   "outputs": [
    {
     "data": {
      "text/plain": [
       "array([0, 1, 2, 3, 4, 5, 6, 7, 8, 9])"
      ]
     },
     "execution_count": 95,
     "metadata": {},
     "output_type": "execute_result"
    }
   ],
   "source": [
    "a1"
   ]
  },
  {
   "cell_type": "code",
   "execution_count": 96,
   "id": "ca545c79-2349-4381-8f4a-d6cad83ba008",
   "metadata": {},
   "outputs": [
    {
     "name": "stdout",
     "output_type": "stream",
     "text": [
      "0\n",
      "1\n",
      "2\n",
      "3\n",
      "4\n",
      "5\n",
      "6\n",
      "7\n",
      "8\n",
      "9\n"
     ]
    }
   ],
   "source": [
    "for i in a1:\n",
    "    print(i)"
   ]
  },
  {
   "cell_type": "code",
   "execution_count": 97,
   "id": "68de13a3-606c-4c8a-9fd8-395a10ba1c99",
   "metadata": {},
   "outputs": [
    {
     "data": {
      "text/plain": [
       "array([[ 0,  1,  2,  3],\n",
       "       [ 4,  5,  6,  7],\n",
       "       [ 8,  9, 10, 11]])"
      ]
     },
     "execution_count": 97,
     "metadata": {},
     "output_type": "execute_result"
    }
   ],
   "source": [
    "a2"
   ]
  },
  {
   "cell_type": "code",
   "execution_count": 98,
   "id": "c1588c68-b014-4425-93c9-da4985d413e1",
   "metadata": {},
   "outputs": [
    {
     "name": "stdout",
     "output_type": "stream",
     "text": [
      "[0 1 2 3]\n",
      "[4 5 6 7]\n",
      "[ 8  9 10 11]\n"
     ]
    }
   ],
   "source": [
    "for i in a2:\n",
    "    print(i)"
   ]
  },
  {
   "cell_type": "code",
   "execution_count": 99,
   "id": "2d50e41d-7f42-436f-a541-144f54b76c83",
   "metadata": {},
   "outputs": [
    {
     "data": {
      "text/plain": [
       "array([[[ 0,  1,  2],\n",
       "        [ 3,  4,  5],\n",
       "        [ 6,  7,  8]],\n",
       "\n",
       "       [[ 9, 10, 11],\n",
       "        [12, 13, 14],\n",
       "        [15, 16, 17]],\n",
       "\n",
       "       [[18, 19, 20],\n",
       "        [21, 22, 23],\n",
       "        [24, 25, 26]]])"
      ]
     },
     "execution_count": 99,
     "metadata": {},
     "output_type": "execute_result"
    }
   ],
   "source": [
    "a3"
   ]
  },
  {
   "cell_type": "code",
   "execution_count": 100,
   "id": "6ddf4952-3c82-4eae-9248-56e83e8a6b12",
   "metadata": {},
   "outputs": [
    {
     "name": "stdout",
     "output_type": "stream",
     "text": [
      "[[0 1 2]\n",
      " [3 4 5]\n",
      " [6 7 8]]\n",
      "[[ 9 10 11]\n",
      " [12 13 14]\n",
      " [15 16 17]]\n",
      "[[18 19 20]\n",
      " [21 22 23]\n",
      " [24 25 26]]\n"
     ]
    }
   ],
   "source": [
    "for i in a3:\n",
    "    print(i)"
   ]
  },
  {
   "cell_type": "code",
   "execution_count": 102,
   "id": "8c19d242-521f-4af0-bc47-532620c540eb",
   "metadata": {},
   "outputs": [
    {
     "name": "stdout",
     "output_type": "stream",
     "text": [
      "0\n",
      "1\n",
      "2\n",
      "3\n",
      "4\n",
      "5\n",
      "6\n",
      "7\n",
      "8\n",
      "9\n",
      "10\n",
      "11\n",
      "12\n",
      "13\n",
      "14\n",
      "15\n",
      "16\n",
      "17\n",
      "18\n",
      "19\n",
      "20\n",
      "21\n",
      "22\n",
      "23\n",
      "24\n",
      "25\n",
      "26\n"
     ]
    }
   ],
   "source": [
    "for i in np.nditer(a3): #to print all the items in 2d or 3d nd.iter() function is used\n",
    "    print(i)"
   ]
  },
  {
   "cell_type": "raw",
   "id": "263a84b7-11ca-4097-b578-abb7e3e56682",
   "metadata": {},
   "source": [
    "reshaping:"
   ]
  },
  {
   "cell_type": "code",
   "execution_count": 104,
   "id": "883aeacd-d71c-46ce-8d97-5dbd03972acc",
   "metadata": {},
   "outputs": [
    {
     "data": {
      "text/plain": [
       "array([[ 0,  4,  8],\n",
       "       [ 1,  5,  9],\n",
       "       [ 2,  6, 10],\n",
       "       [ 3,  7, 11]])"
      ]
     },
     "execution_count": 104,
     "metadata": {},
     "output_type": "execute_result"
    }
   ],
   "source": [
    "#transpose\n",
    "np.transpose(a2)  #both are same\n",
    "a2.T\n"
   ]
  },
  {
   "cell_type": "code",
   "execution_count": 106,
   "id": "21dbb1a0-e113-46ba-985d-5b70bdda9465",
   "metadata": {},
   "outputs": [
    {
     "data": {
      "text/plain": [
       "array([ 0,  1,  2,  3,  4,  5,  6,  7,  8,  9, 10, 11])"
      ]
     },
     "execution_count": 106,
     "metadata": {},
     "output_type": "execute_result"
    }
   ],
   "source": [
    "# ravel convert other dimensions array into 1d \n",
    "np.ravel(a2)\n",
    "a2.ravel()"
   ]
  },
  {
   "cell_type": "code",
   "execution_count": 107,
   "id": "00e8de65-f8e5-4cca-8345-9a427cffd4c1",
   "metadata": {},
   "outputs": [
    {
     "data": {
      "text/plain": [
       "array([ 0,  1,  2,  3,  4,  5,  6,  7,  8,  9, 10, 11, 12, 13, 14, 15, 16,\n",
       "       17, 18, 19, 20, 21, 22, 23, 24, 25, 26])"
      ]
     },
     "execution_count": 107,
     "metadata": {},
     "output_type": "execute_result"
    }
   ],
   "source": [
    "a3.ravel()"
   ]
  },
  {
   "cell_type": "raw",
   "id": "e9fd3622-a75e-4c30-916c-be7c41ca28d3",
   "metadata": {},
   "source": [
    "Stacking: shape should be same otherwise it doesn't work it is used to add different arrays"
   ]
  },
  {
   "cell_type": "code",
   "execution_count": 122,
   "id": "d18a77b0-27e3-4cea-b53c-604dc30b81c0",
   "metadata": {},
   "outputs": [
    {
     "data": {
      "text/plain": [
       "array([[ 0,  1,  2,  3, 12, 13, 14, 15],\n",
       "       [ 4,  5,  6,  7, 16, 17, 18, 19],\n",
       "       [ 8,  9, 10, 11, 20, 21, 22, 23]])"
      ]
     },
     "execution_count": 122,
     "metadata": {},
     "output_type": "execute_result"
    }
   ],
   "source": [
    "#horizontal stacking\n",
    "a4 =  np.arange(12).reshape(3,4)\n",
    "a5 =  np.arange(12,24).reshape(3,4)\n",
    "np.hstack((a4,a5))\n"
   ]
  },
  {
   "cell_type": "code",
   "execution_count": 111,
   "id": "352d1fee-f00b-40ef-af47-eb5a66f74f4c",
   "metadata": {},
   "outputs": [
    {
     "data": {
      "text/plain": [
       "array([[ 0,  1,  2,  3],\n",
       "       [ 4,  5,  6,  7],\n",
       "       [ 8,  9, 10, 11],\n",
       "       [12, 13, 14, 15],\n",
       "       [16, 17, 18, 19],\n",
       "       [20, 21, 22, 23]])"
      ]
     },
     "execution_count": 111,
     "metadata": {},
     "output_type": "execute_result"
    }
   ],
   "source": [
    "#vertival stacking\n",
    "np.vstack((a4,a5))"
   ]
  },
  {
   "cell_type": "code",
   "execution_count": 112,
   "id": "eec72123-823b-475d-a999-6463a8a0c329",
   "metadata": {},
   "outputs": [
    {
     "data": {
      "text/plain": [
       "array([[ 0,  1,  2,  3],\n",
       "       [ 4,  5,  6,  7],\n",
       "       [ 8,  9, 10, 11]])"
      ]
     },
     "execution_count": 112,
     "metadata": {},
     "output_type": "execute_result"
    }
   ],
   "source": [
    "#splitting hsplit means we distinguish it vertically and vsplit means we split it horizontally it is oppsite of stack\n",
    "a4"
   ]
  },
  {
   "cell_type": "code",
   "execution_count": 113,
   "id": "147443d3-018e-4b94-b568-7ced0430545f",
   "metadata": {},
   "outputs": [
    {
     "data": {
      "text/plain": [
       "[array([[0, 1],\n",
       "        [4, 5],\n",
       "        [8, 9]]),\n",
       " array([[ 2,  3],\n",
       "        [ 6,  7],\n",
       "        [10, 11]])]"
      ]
     },
     "execution_count": 113,
     "metadata": {},
     "output_type": "execute_result"
    }
   ],
   "source": [
    "np.hsplit(a4,2)"
   ]
  },
  {
   "cell_type": "code",
   "execution_count": 116,
   "id": "11134617-0d78-450b-a25c-0b30a2b816fe",
   "metadata": {},
   "outputs": [
    {
     "data": {
      "text/plain": [
       "[array([[0, 1, 2, 3]]), array([[4, 5, 6, 7]]), array([[ 8,  9, 10, 11]])]"
      ]
     },
     "execution_count": 116,
     "metadata": {},
     "output_type": "execute_result"
    }
   ],
   "source": [
    "np.vsplit(a4,3)"
   ]
  },
  {
   "cell_type": "code",
   "execution_count": null,
   "id": "c38c7eb2-485e-4517-9bfb-90dc0315d045",
   "metadata": {},
   "outputs": [],
   "source": []
  }
 ],
 "metadata": {
  "kernelspec": {
   "display_name": "Python 3 (ipykernel)",
   "language": "python",
   "name": "python3"
  },
  "language_info": {
   "codemirror_mode": {
    "name": "ipython",
    "version": 3
   },
   "file_extension": ".py",
   "mimetype": "text/x-python",
   "name": "python",
   "nbconvert_exporter": "python",
   "pygments_lexer": "ipython3",
   "version": "3.11.7"
  }
 },
 "nbformat": 4,
 "nbformat_minor": 5
}
