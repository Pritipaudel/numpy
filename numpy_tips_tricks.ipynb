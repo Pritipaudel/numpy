{
 "cells": [
  {
   "cell_type": "code",
   "execution_count": 1,
   "id": "cce7c536-a1bc-4390-8237-640eac52754b",
   "metadata": {},
   "outputs": [
    {
     "data": {
      "text/plain": [
       "array([33, 69, 42, 52, 18, 26, 17, 74,  1, 15, 88, 51, 30, 94, 40])"
      ]
     },
     "execution_count": 1,
     "metadata": {},
     "output_type": "execute_result"
    }
   ],
   "source": [
    "#np.sort : return a sorted copy of an array and also give numpy sorted array\n",
    "import numpy as np\n",
    "a = np.random.randint(1,100,15)\n",
    "a"
   ]
  },
  {
   "cell_type": "code",
   "execution_count": 4,
   "id": "214e8b40-0af9-47df-b38b-ab3d94116825",
   "metadata": {},
   "outputs": [
    {
     "data": {
      "text/plain": [
       "array([[55, 89,  3, 87],\n",
       "       [35, 51, 91, 45],\n",
       "       [30, 67, 38, 90],\n",
       "       [43, 75, 15, 74],\n",
       "       [84, 80, 35, 66],\n",
       "       [62, 13, 49, 94]])"
      ]
     },
     "execution_count": 4,
     "metadata": {},
     "output_type": "execute_result"
    }
   ],
   "source": [
    "b = np.random.randint(1,100,24).reshape(6,4)\n",
    "b"
   ]
  },
  {
   "cell_type": "code",
   "execution_count": 9,
   "id": "7779ea6f-bd81-4f0a-94f6-dddb3dbbf687",
   "metadata": {},
   "outputs": [
    {
     "data": {
      "text/plain": [
       "array([ 1, 15, 17, 18, 26, 30, 33, 40, 42, 51, 52, 69, 74, 88, 94])"
      ]
     },
     "execution_count": 9,
     "metadata": {},
     "output_type": "execute_result"
    }
   ],
   "source": [
    "np.sort(a)"
   ]
  },
  {
   "cell_type": "code",
   "execution_count": 10,
   "id": "a86913f8-f175-45f2-a733-b6cdeff915ee",
   "metadata": {},
   "outputs": [
    {
     "data": {
      "text/plain": [
       "array([[ 3, 55, 87, 89],\n",
       "       [35, 45, 51, 91],\n",
       "       [30, 38, 67, 90],\n",
       "       [15, 43, 74, 75],\n",
       "       [35, 66, 80, 84],\n",
       "       [13, 49, 62, 94]])"
      ]
     },
     "execution_count": 10,
     "metadata": {},
     "output_type": "execute_result"
    }
   ],
   "source": [
    "np.sort(b)  #default row sorting#"
   ]
  },
  {
   "cell_type": "code",
   "execution_count": 8,
   "id": "1b138595-f191-4e3a-943c-d76d3ea83b1f",
   "metadata": {},
   "outputs": [
    {
     "data": {
      "text/plain": [
       "array([[30, 13,  3, 45],\n",
       "       [35, 51, 15, 66],\n",
       "       [43, 67, 35, 74],\n",
       "       [55, 75, 38, 87],\n",
       "       [62, 80, 49, 90],\n",
       "       [84, 89, 91, 94]])"
      ]
     },
     "execution_count": 8,
     "metadata": {},
     "output_type": "execute_result"
    }
   ],
   "source": [
    "np.sort(b,axis = 0)"
   ]
  },
  {
   "cell_type": "code",
   "execution_count": 11,
   "id": "ac6c17e1-ea13-456d-96c1-8df4909909bc",
   "metadata": {},
   "outputs": [
    {
     "data": {
      "text/plain": [
       "array([94, 88, 74, 69, 52, 51, 42, 40, 33, 30, 26, 18, 17, 15,  1])"
      ]
     },
     "execution_count": 11,
     "metadata": {},
     "output_type": "execute_result"
    }
   ],
   "source": [
    "#To sort it in descending order\n",
    "np.sort(a)[::-1]"
   ]
  },
  {
   "cell_type": "code",
   "execution_count": 12,
   "id": "b843f33d-5386-406f-9f65-4bac7d771a87",
   "metadata": {},
   "outputs": [
    {
     "data": {
      "text/plain": [
       "array([[84, 89, 91, 94],\n",
       "       [62, 80, 49, 90],\n",
       "       [55, 75, 38, 87],\n",
       "       [43, 67, 35, 74],\n",
       "       [35, 51, 15, 66],\n",
       "       [30, 13,  3, 45]])"
      ]
     },
     "execution_count": 12,
     "metadata": {},
     "output_type": "execute_result"
    }
   ],
   "source": [
    "np.sort(b,axis = 0)[::-1]"
   ]
  },
  {
   "cell_type": "code",
   "execution_count": 13,
   "id": "c5b86882-735b-4ed1-9082-2b5f050ab02a",
   "metadata": {},
   "outputs": [],
   "source": [
    "#np.append() : The numpy append() appends values along the mentioned axis at the end of the array."
   ]
  },
  {
   "cell_type": "code",
   "execution_count": 14,
   "id": "08d2da69-085a-41b3-8b3c-a2d5426adb9e",
   "metadata": {},
   "outputs": [
    {
     "data": {
      "text/plain": [
       "array([33, 69, 42, 52, 18, 26, 17, 74,  1, 15, 88, 51, 30, 94, 40])"
      ]
     },
     "execution_count": 14,
     "metadata": {},
     "output_type": "execute_result"
    }
   ],
   "source": [
    "a"
   ]
  },
  {
   "cell_type": "code",
   "execution_count": 15,
   "id": "92d9465b-464a-462e-b092-6e50e5f3caa8",
   "metadata": {},
   "outputs": [
    {
     "data": {
      "text/plain": [
       "array([ 33,  69,  42,  52,  18,  26,  17,  74,   1,  15,  88,  51,  30,\n",
       "        94,  40, 666])"
      ]
     },
     "execution_count": 15,
     "metadata": {},
     "output_type": "execute_result"
    }
   ],
   "source": [
    "np.append(a,666)"
   ]
  },
  {
   "cell_type": "code",
   "execution_count": 16,
   "id": "cf4329e7-2b56-4b01-ad5c-51a199cc3ca9",
   "metadata": {},
   "outputs": [
    {
     "data": {
      "text/plain": [
       "array([[55, 89,  3, 87],\n",
       "       [35, 51, 91, 45],\n",
       "       [30, 67, 38, 90],\n",
       "       [43, 75, 15, 74],\n",
       "       [84, 80, 35, 66],\n",
       "       [62, 13, 49, 94]])"
      ]
     },
     "execution_count": 16,
     "metadata": {},
     "output_type": "execute_result"
    }
   ],
   "source": [
    "b"
   ]
  },
  {
   "cell_type": "code",
   "execution_count": 32,
   "id": "d19f29e0-f32e-4867-969c-1b754e12132b",
   "metadata": {},
   "outputs": [
    {
     "data": {
      "text/plain": [
       "array([[55., 89.,  3., 87.,  1.],\n",
       "       [35., 51., 91., 45.,  1.],\n",
       "       [30., 67., 38., 90.,  1.],\n",
       "       [43., 75., 15., 74.,  1.],\n",
       "       [84., 80., 35., 66.,  1.],\n",
       "       [62., 13., 49., 94.,  1.]])"
      ]
     },
     "execution_count": 32,
     "metadata": {},
     "output_type": "execute_result"
    }
   ],
   "source": [
    "np.append(b,np.ones((b.shape[0],1)),axis=1)"
   ]
  },
  {
   "cell_type": "code",
   "execution_count": 20,
   "id": "b1cbbea4-1005-496e-a02b-e1e7c973e1b4",
   "metadata": {},
   "outputs": [],
   "source": [
    "#np.concatenate: numpy.concatenate() function concatenate a sequence of arrays along a existing axis."
   ]
  },
  {
   "cell_type": "code",
   "execution_count": 22,
   "id": "ef3bf502-3cbb-45f1-853d-131faab757b3",
   "metadata": {},
   "outputs": [
    {
     "name": "stdout",
     "output_type": "stream",
     "text": [
      "[[0 1 2]\n",
      " [3 4 5]]\n",
      "[[ 6  7  8]\n",
      " [ 9 10 11]]\n"
     ]
    }
   ],
   "source": [
    "c = np.arange(6).reshape(2,3)\n",
    "d = np.arange(6,12).reshape(2,3)\n",
    "print(c)\n",
    "print(d)"
   ]
  },
  {
   "cell_type": "code",
   "execution_count": 23,
   "id": "b2dd31b5-3206-42c0-926b-e87d80a3ed1d",
   "metadata": {},
   "outputs": [
    {
     "data": {
      "text/plain": [
       "array([[ 0,  1,  2],\n",
       "       [ 3,  4,  5],\n",
       "       [ 6,  7,  8],\n",
       "       [ 9, 10, 11]])"
      ]
     },
     "execution_count": 23,
     "metadata": {},
     "output_type": "execute_result"
    }
   ],
   "source": [
    "np.concatenate((c,d),axis=0)"
   ]
  },
  {
   "cell_type": "code",
   "execution_count": 24,
   "id": "359999e2-1433-439f-8c26-e77e4d937e4d",
   "metadata": {},
   "outputs": [
    {
     "data": {
      "text/plain": [
       "array([[ 0,  1,  2,  6,  7,  8],\n",
       "       [ 3,  4,  5,  9, 10, 11]])"
      ]
     },
     "execution_count": 24,
     "metadata": {},
     "output_type": "execute_result"
    }
   ],
   "source": [
    "np.concatenate((c,d),axis=1)"
   ]
  },
  {
   "cell_type": "code",
   "execution_count": 28,
   "id": "2956fabd-3f1c-4938-a3d2-e0eba8c8e83d",
   "metadata": {},
   "outputs": [
    {
     "data": {
      "text/plain": [
       "array([[ 0,  1,  2,  6,  7,  8],\n",
       "       [ 3,  4,  5,  9, 10, 11]])"
      ]
     },
     "execution_count": 28,
     "metadata": {},
     "output_type": "execute_result"
    }
   ],
   "source": [
    "np.hstack((c,d))"
   ]
  },
  {
   "cell_type": "code",
   "execution_count": 29,
   "id": "81577f45-6d15-4b8e-a30d-7a654055a2db",
   "metadata": {},
   "outputs": [
    {
     "data": {
      "text/plain": [
       "array([[ 0,  1,  2],\n",
       "       [ 3,  4,  5],\n",
       "       [ 6,  7,  8],\n",
       "       [ 9, 10, 11]])"
      ]
     },
     "execution_count": 29,
     "metadata": {},
     "output_type": "execute_result"
    }
   ],
   "source": [
    "np.vstack((c,d))"
   ]
  },
  {
   "cell_type": "code",
   "execution_count": 33,
   "id": "0ab60b82-8893-4de4-94ea-7b279e550fb5",
   "metadata": {},
   "outputs": [],
   "source": [
    "#np.unique(): with the help of np.unique() method we can get the unique values from an array given as parameter in np.unique() method.\n"
   ]
  },
  {
   "cell_type": "code",
   "execution_count": 34,
   "id": "30b3271b-bb0f-4240-bd50-334818f4c1b6",
   "metadata": {},
   "outputs": [
    {
     "data": {
      "text/plain": [
       "array([1, 2, 3, 4, 5, 6])"
      ]
     },
     "execution_count": 34,
     "metadata": {},
     "output_type": "execute_result"
    }
   ],
   "source": [
    "e = np.array([1,1,1,2,2,2,3,3,3,4,4,5,5,6,6])\n",
    "np.unique(e)"
   ]
  },
  {
   "cell_type": "code",
   "execution_count": 35,
   "id": "65e2435f-2185-4ce4-9b9d-f992f35a11c7",
   "metadata": {},
   "outputs": [],
   "source": [
    "#np.expand_dims: with the help of numpy.expand_dims() method, we can get the expanded dimensions of an array.\n"
   ]
  },
  {
   "cell_type": "code",
   "execution_count": 36,
   "id": "aa929ddd-ba6d-46a1-bd41-65ae0de3eb05",
   "metadata": {},
   "outputs": [
    {
     "data": {
      "text/plain": [
       "array([33, 69, 42, 52, 18, 26, 17, 74,  1, 15, 88, 51, 30, 94, 40])"
      ]
     },
     "execution_count": 36,
     "metadata": {},
     "output_type": "execute_result"
    }
   ],
   "source": [
    "a"
   ]
  },
  {
   "cell_type": "code",
   "execution_count": 39,
   "id": "44f55206-30ff-4aa9-911e-6fb30422debf",
   "metadata": {},
   "outputs": [
    {
     "data": {
      "text/plain": [
       "(15,)"
      ]
     },
     "execution_count": 39,
     "metadata": {},
     "output_type": "execute_result"
    }
   ],
   "source": [
    "np.shape(a)"
   ]
  },
  {
   "cell_type": "code",
   "execution_count": 41,
   "id": "b36ec84d-0fcd-42e0-864f-533bdec5d27e",
   "metadata": {},
   "outputs": [
    {
     "data": {
      "text/plain": [
       "array([[33, 69, 42, 52, 18, 26, 17, 74,  1, 15, 88, 51, 30, 94, 40]])"
      ]
     },
     "execution_count": 41,
     "metadata": {},
     "output_type": "execute_result"
    }
   ],
   "source": [
    "np.expand_dims(a,axis=0)  #converted into 2d array\n"
   ]
  },
  {
   "cell_type": "code",
   "execution_count": 42,
   "id": "352af8e2-9dba-46c1-b385-15bdf224a991",
   "metadata": {},
   "outputs": [
    {
     "data": {
      "text/plain": [
       "array([[33],\n",
       "       [69],\n",
       "       [42],\n",
       "       [52],\n",
       "       [18],\n",
       "       [26],\n",
       "       [17],\n",
       "       [74],\n",
       "       [ 1],\n",
       "       [15],\n",
       "       [88],\n",
       "       [51],\n",
       "       [30],\n",
       "       [94],\n",
       "       [40]])"
      ]
     },
     "execution_count": 42,
     "metadata": {},
     "output_type": "execute_result"
    }
   ],
   "source": [
    "np.expand_dims(a,axis=1)"
   ]
  },
  {
   "cell_type": "code",
   "execution_count": 54,
   "id": "16bb9313-9828-4f18-bdda-ad6ffda2ad6c",
   "metadata": {},
   "outputs": [],
   "source": [
    "#np.where() : The numpy.where() function returns the indices of elements in an input array where the given condition is satisfied."
   ]
  },
  {
   "cell_type": "code",
   "execution_count": 57,
   "id": "6ed72c00-b80e-4fbd-bdd7-2a3d5c34c8d9",
   "metadata": {},
   "outputs": [],
   "source": [
    "a = np.arange(20,40)"
   ]
  },
  {
   "cell_type": "code",
   "execution_count": 58,
   "id": "12aca6cd-04dc-42a7-b352-acf55d86b31c",
   "metadata": {},
   "outputs": [
    {
     "data": {
      "text/plain": [
       "array([20, 21, 22, 23, 24, 25, 26, 27, 28, 29, 30, 31, 32, 33, 34, 35, 36,\n",
       "       37, 38, 39])"
      ]
     },
     "execution_count": 58,
     "metadata": {},
     "output_type": "execute_result"
    }
   ],
   "source": [
    "a"
   ]
  },
  {
   "cell_type": "code",
   "execution_count": 59,
   "id": "f908ebb0-6b54-45af-bfee-11336bcbc2f0",
   "metadata": {},
   "outputs": [
    {
     "data": {
      "text/plain": [
       "array([20, 21, 22, 23, 24, 25, 26, 27, 28, 29, 30,  0,  0,  0,  0,  0,  0,\n",
       "        0,  0,  0])"
      ]
     },
     "execution_count": 59,
     "metadata": {},
     "output_type": "execute_result"
    }
   ],
   "source": [
    "np.where(a > 30, 0,a)"
   ]
  },
  {
   "cell_type": "code",
   "execution_count": 60,
   "id": "20f2b30d-0df5-4002-9de6-4a560dcd53d7",
   "metadata": {},
   "outputs": [
    {
     "data": {
      "text/plain": [
       "array([ 0, 21,  0, 23,  0, 25,  0, 27,  0, 29,  0, 31,  0, 33,  0, 35,  0,\n",
       "       37,  0, 39])"
      ]
     },
     "execution_count": 60,
     "metadata": {},
     "output_type": "execute_result"
    }
   ],
   "source": [
    "np.where(a%2==0,0,a)"
   ]
  },
  {
   "cell_type": "code",
   "execution_count": 61,
   "id": "b7b6361c-3947-4dce-a2f9-46d8ff701fe9",
   "metadata": {},
   "outputs": [],
   "source": [
    "#np.argmax(): The numpy.argmax() function returns indices of the max element of the array in a particular axis."
   ]
  },
  {
   "cell_type": "code",
   "execution_count": 62,
   "id": "530adc01-4899-4934-8661-28edf6d04ee7",
   "metadata": {},
   "outputs": [
    {
     "data": {
      "text/plain": [
       "array([20, 21, 22, 23, 24, 25, 26, 27, 28, 29, 30, 31, 32, 33, 34, 35, 36,\n",
       "       37, 38, 39])"
      ]
     },
     "execution_count": 62,
     "metadata": {},
     "output_type": "execute_result"
    }
   ],
   "source": [
    "a"
   ]
  },
  {
   "cell_type": "code",
   "execution_count": 63,
   "id": "f5891afa-2e10-4bff-8fa5-f5dd0fa845f6",
   "metadata": {},
   "outputs": [
    {
     "data": {
      "text/plain": [
       "19"
      ]
     },
     "execution_count": 63,
     "metadata": {},
     "output_type": "execute_result"
    }
   ],
   "source": [
    "np.argmax(a)   #to find the index of largest element in given array"
   ]
  },
  {
   "cell_type": "code",
   "execution_count": 64,
   "id": "4cffbb94-85b3-4568-8553-243b879496f4",
   "metadata": {},
   "outputs": [
    {
     "data": {
      "text/plain": [
       "array([[55, 89,  3, 87],\n",
       "       [35, 51, 91, 45],\n",
       "       [30, 67, 38, 90],\n",
       "       [43, 75, 15, 74],\n",
       "       [84, 80, 35, 66],\n",
       "       [62, 13, 49, 94]])"
      ]
     },
     "execution_count": 64,
     "metadata": {},
     "output_type": "execute_result"
    }
   ],
   "source": [
    "b"
   ]
  },
  {
   "cell_type": "code",
   "execution_count": 66,
   "id": "91d47fa9-fed8-400a-aed2-d8a7cf5d6796",
   "metadata": {},
   "outputs": [
    {
     "data": {
      "text/plain": [
       "array([4, 0, 1, 5], dtype=int64)"
      ]
     },
     "execution_count": 66,
     "metadata": {},
     "output_type": "execute_result"
    }
   ],
   "source": [
    "np.argmax(b,axis=0)  #column"
   ]
  },
  {
   "cell_type": "code",
   "execution_count": 67,
   "id": "4d9d4a73-595b-425d-8f50-954b9d0901b3",
   "metadata": {},
   "outputs": [
    {
     "data": {
      "text/plain": [
       "array([1, 2, 3, 1, 0, 3], dtype=int64)"
      ]
     },
     "execution_count": 67,
     "metadata": {},
     "output_type": "execute_result"
    }
   ],
   "source": [
    "np.argmax(b, axis=1)    #row"
   ]
  },
  {
   "cell_type": "code",
   "execution_count": 68,
   "id": "1b010a97-4a98-4137-be5e-00b3c205295d",
   "metadata": {},
   "outputs": [
    {
     "data": {
      "text/plain": [
       "23"
      ]
     },
     "execution_count": 68,
     "metadata": {},
     "output_type": "execute_result"
    }
   ],
   "source": [
    "np.argmax(b)"
   ]
  },
  {
   "cell_type": "code",
   "execution_count": 69,
   "id": "bcad2d22-5931-42b1-b468-1428f12f7b99",
   "metadata": {},
   "outputs": [
    {
     "data": {
      "text/plain": [
       "array([20, 21, 22, 23, 24, 25, 26, 27, 28, 29, 30, 31, 32, 33, 34, 35, 36,\n",
       "       37, 38, 39])"
      ]
     },
     "execution_count": 69,
     "metadata": {},
     "output_type": "execute_result"
    }
   ],
   "source": [
    "a"
   ]
  },
  {
   "cell_type": "code",
   "execution_count": 71,
   "id": "981b5546-cb3e-45cd-8f75-ab0ac6b042b5",
   "metadata": {},
   "outputs": [
    {
     "data": {
      "text/plain": [
       "0"
      ]
     },
     "execution_count": 71,
     "metadata": {},
     "output_type": "execute_result"
    }
   ],
   "source": [
    "np.argmin(a)  #top find the index of minimun element from given array"
   ]
  },
  {
   "cell_type": "raw",
   "id": "8b7bb69c-beb7-41a9-995d-9dc9ac8abe97",
   "metadata": {},
   "source": [
    "numpy.cumsum : This function is used when we want to compute the cumulative sum of array elements over a given axis."
   ]
  },
  {
   "cell_type": "code",
   "execution_count": 72,
   "id": "7afe28b7-5834-4863-93c5-10c50734abcb",
   "metadata": {},
   "outputs": [
    {
     "data": {
      "text/plain": [
       "array([20, 21, 22, 23, 24, 25, 26, 27, 28, 29, 30, 31, 32, 33, 34, 35, 36,\n",
       "       37, 38, 39])"
      ]
     },
     "execution_count": 72,
     "metadata": {},
     "output_type": "execute_result"
    }
   ],
   "source": [
    "a"
   ]
  },
  {
   "cell_type": "code",
   "execution_count": 73,
   "id": "628c9f7f-60b3-4ee9-b89c-e67ad0feb71b",
   "metadata": {},
   "outputs": [
    {
     "data": {
      "text/plain": [
       "array([ 20,  41,  63,  86, 110, 135, 161, 188, 216, 245, 275, 306, 338,\n",
       "       371, 405, 440, 476, 513, 551, 590])"
      ]
     },
     "execution_count": 73,
     "metadata": {},
     "output_type": "execute_result"
    }
   ],
   "source": [
    "np.cumsum(a)"
   ]
  },
  {
   "cell_type": "code",
   "execution_count": 74,
   "id": "8e0f39f8-3541-4ca4-8165-4485d9c040a3",
   "metadata": {},
   "outputs": [
    {
     "data": {
      "text/plain": [
       "array([[55, 89,  3, 87],\n",
       "       [35, 51, 91, 45],\n",
       "       [30, 67, 38, 90],\n",
       "       [43, 75, 15, 74],\n",
       "       [84, 80, 35, 66],\n",
       "       [62, 13, 49, 94]])"
      ]
     },
     "execution_count": 74,
     "metadata": {},
     "output_type": "execute_result"
    }
   ],
   "source": [
    "b"
   ]
  },
  {
   "cell_type": "code",
   "execution_count": 75,
   "id": "3dbb3275-b2a8-43b8-ade1-d4d8e5f32145",
   "metadata": {},
   "outputs": [
    {
     "data": {
      "text/plain": [
       "array([  55,  144,  147,  234,  269,  320,  411,  456,  486,  553,  591,\n",
       "        681,  724,  799,  814,  888,  972, 1052, 1087, 1153, 1215, 1228,\n",
       "       1277, 1371])"
      ]
     },
     "execution_count": 75,
     "metadata": {},
     "output_type": "execute_result"
    }
   ],
   "source": [
    "np.cumsum(b)"
   ]
  },
  {
   "cell_type": "code",
   "execution_count": 76,
   "id": "3be7e124-f285-4617-b84e-41bfc84761e6",
   "metadata": {},
   "outputs": [
    {
     "data": {
      "text/plain": [
       "array([[ 55,  89,   3,  87],\n",
       "       [ 90, 140,  94, 132],\n",
       "       [120, 207, 132, 222],\n",
       "       [163, 282, 147, 296],\n",
       "       [247, 362, 182, 362],\n",
       "       [309, 375, 231, 456]])"
      ]
     },
     "execution_count": 76,
     "metadata": {},
     "output_type": "execute_result"
    }
   ],
   "source": [
    "np.cumsum(b , axis=0)"
   ]
  },
  {
   "cell_type": "code",
   "execution_count": 77,
   "id": "4e535fb0-bf9f-4b69-9fc2-20ccda848bbc",
   "metadata": {},
   "outputs": [
    {
     "data": {
      "text/plain": [
       "array([[ 55, 144, 147, 234],\n",
       "       [ 35,  86, 177, 222],\n",
       "       [ 30,  97, 135, 225],\n",
       "       [ 43, 118, 133, 207],\n",
       "       [ 84, 164, 199, 265],\n",
       "       [ 62,  75, 124, 218]])"
      ]
     },
     "execution_count": 77,
     "metadata": {},
     "output_type": "execute_result"
    }
   ],
   "source": [
    "np.cumsum(b, axis=1)"
   ]
  },
  {
   "cell_type": "code",
   "execution_count": 78,
   "id": "00980d25-53a1-4017-ac44-87a6006b9d36",
   "metadata": {},
   "outputs": [
    {
     "data": {
      "text/plain": [
       "array([20, 21, 22, 23, 24, 25, 26, 27, 28, 29, 30, 31, 32, 33, 34, 35, 36,\n",
       "       37, 38, 39])"
      ]
     },
     "execution_count": 78,
     "metadata": {},
     "output_type": "execute_result"
    }
   ],
   "source": [
    "a"
   ]
  },
  {
   "cell_type": "code",
   "execution_count": 79,
   "id": "1f799788-f8d3-45ae-a747-92b8789fe9ea",
   "metadata": {},
   "outputs": [
    {
     "data": {
      "text/plain": [
       "array([         20,         420,        9240,      212520,     5100480,\n",
       "         127512000,  -979655296,  -680889216, -1885028864,  1168737792,\n",
       "         702395392,   299420672,   991526912, -1639350272,    96665600,\n",
       "        -911671296,  1539571712,  1129578496,   -25690112, -1001914368])"
      ]
     },
     "execution_count": 79,
     "metadata": {},
     "output_type": "execute_result"
    }
   ],
   "source": [
    "np.cumprod(a)   #cumprod() is same as cumsum but to find product"
   ]
  },
  {
   "cell_type": "code",
   "execution_count": 80,
   "id": "9cfcd62d-601d-41af-9e32-e78a2a85a3df",
   "metadata": {},
   "outputs": [],
   "source": [
    "#np.percentile(): this function is used to compute the nth percentile of the given data along the specified axis."
   ]
  },
  {
   "cell_type": "code",
   "execution_count": 81,
   "id": "6cdb8ad9-64d3-49b1-ac9c-c2f9af72ba1c",
   "metadata": {},
   "outputs": [
    {
     "data": {
      "text/plain": [
       "array([20, 21, 22, 23, 24, 25, 26, 27, 28, 29, 30, 31, 32, 33, 34, 35, 36,\n",
       "       37, 38, 39])"
      ]
     },
     "execution_count": 81,
     "metadata": {},
     "output_type": "execute_result"
    }
   ],
   "source": [
    "a"
   ]
  },
  {
   "cell_type": "code",
   "execution_count": 82,
   "id": "f9c571ce-bde7-4a58-8ad6-0d5be3d8f8e7",
   "metadata": {},
   "outputs": [
    {
     "data": {
      "text/plain": [
       "39.0"
      ]
     },
     "execution_count": 82,
     "metadata": {},
     "output_type": "execute_result"
    }
   ],
   "source": [
    "np.percentile(a,100)"
   ]
  },
  {
   "cell_type": "code",
   "execution_count": 84,
   "id": "26744767-5871-4044-9cef-22b0edb6b471",
   "metadata": {},
   "outputs": [
    {
     "data": {
      "text/plain": [
       "29.5"
      ]
     },
     "execution_count": 84,
     "metadata": {},
     "output_type": "execute_result"
    }
   ],
   "source": [
    "np.percentile(a,50)"
   ]
  },
  {
   "cell_type": "raw",
   "id": "79301614-187f-4167-aad2-059a64812b8b",
   "metadata": {},
   "source": [
    "np.histogram : numpy has a built in numpy.histogram() function which represents the frequency of data distribution in the graphical form"
   ]
  },
  {
   "cell_type": "code",
   "execution_count": 86,
   "id": "9a0a1307-b76a-4ba0-a6a5-9e4fb1ca0196",
   "metadata": {},
   "outputs": [
    {
     "data": {
      "text/plain": [
       "array([20, 21, 22, 23, 24, 25, 26, 27, 28, 29, 30, 31, 32, 33, 34, 35, 36,\n",
       "       37, 38, 39])"
      ]
     },
     "execution_count": 86,
     "metadata": {},
     "output_type": "execute_result"
    }
   ],
   "source": [
    "a"
   ]
  },
  {
   "cell_type": "code",
   "execution_count": 87,
   "id": "2e3e3428-925a-41d9-9cf7-03d33491c3e5",
   "metadata": {},
   "outputs": [
    {
     "data": {
      "text/plain": [
       "(array([ 0,  0, 10, 10], dtype=int64), array([ 0, 10, 20, 30, 40]))"
      ]
     },
     "execution_count": 87,
     "metadata": {},
     "output_type": "execute_result"
    }
   ],
   "source": [
    "np.histogram(a,bins=[0,10,20,30,40])"
   ]
  },
  {
   "cell_type": "raw",
   "id": "0317efa6-12f3-4c06-8860-0a14d7fbfbe9",
   "metadata": {},
   "source": [
    "np.corrcoef: returns pearson product moment correlation coefficients"
   ]
  },
  {
   "cell_type": "code",
   "execution_count": 3,
   "id": "4b89e489-c2ed-488e-9786-5d1e6f60a91e",
   "metadata": {},
   "outputs": [
    {
     "data": {
      "text/plain": [
       "array([[ 1.        , -0.36904144],\n",
       "       [-0.36904144,  1.        ]])"
      ]
     },
     "execution_count": 3,
     "metadata": {},
     "output_type": "execute_result"
    }
   ],
   "source": [
    "import numpy as np\n",
    "salary = np.array([40000,4500000,60000,80000])\n",
    "experience = np.array([1,2,4,6])\n",
    "np.corrcoef(salary,experience)"
   ]
  },
  {
   "cell_type": "raw",
   "id": "c1ceb26d-01a6-4338-8445-011ac70831fb",
   "metadata": {},
   "source": [
    "#np.isin(): in this function we can see that one array having values are checked in different numpy array having different elements with different sizes."
   ]
  },
  {
   "cell_type": "code",
   "execution_count": 4,
   "id": "0cbb6be4-034c-4197-ad31-12369d6a9386",
   "metadata": {},
   "outputs": [],
   "source": [
    "a = np.random.randint(10,30,10)"
   ]
  },
  {
   "cell_type": "code",
   "execution_count": 5,
   "id": "d4c3d66a-b09d-43c7-9c05-cefd314b6139",
   "metadata": {},
   "outputs": [
    {
     "data": {
      "text/plain": [
       "array([24, 17, 24, 24, 13, 23, 15, 15, 26, 20])"
      ]
     },
     "execution_count": 5,
     "metadata": {},
     "output_type": "execute_result"
    }
   ],
   "source": [
    "a"
   ]
  },
  {
   "cell_type": "code",
   "execution_count": 6,
   "id": "172fd3c6-9e41-4f8a-b550-7501fa34016a",
   "metadata": {},
   "outputs": [],
   "source": [
    "items = [5,10,13,20,26]"
   ]
  },
  {
   "cell_type": "code",
   "execution_count": 7,
   "id": "a9d0ef33-9eaf-49cc-af8f-7fdd54dbe801",
   "metadata": {},
   "outputs": [
    {
     "data": {
      "text/plain": [
       "array([False, False, False, False,  True, False, False, False,  True,\n",
       "        True])"
      ]
     },
     "execution_count": 7,
     "metadata": {},
     "output_type": "execute_result"
    }
   ],
   "source": [
    "np.isin(a,items)"
   ]
  },
  {
   "cell_type": "code",
   "execution_count": 8,
   "id": "f6e361b8-b1c4-4212-957d-7dcd01d5ccc1",
   "metadata": {},
   "outputs": [
    {
     "data": {
      "text/plain": [
       "array([13, 26, 20])"
      ]
     },
     "execution_count": 8,
     "metadata": {},
     "output_type": "execute_result"
    }
   ],
   "source": [
    "a[np.isin(a,items)]"
   ]
  },
  {
   "cell_type": "raw",
   "id": "2089e34b-f3b9-4fa6-88c0-8742ced73039",
   "metadata": {},
   "source": [
    "np.flip() : this function reverse the order of array elements along the specified axis preserving the shape of the array."
   ]
  },
  {
   "cell_type": "code",
   "execution_count": 9,
   "id": "59538724-55c5-49d7-9e5c-5224529bf740",
   "metadata": {},
   "outputs": [
    {
     "data": {
      "text/plain": [
       "array([24, 17, 24, 24, 13, 23, 15, 15, 26, 20])"
      ]
     },
     "execution_count": 9,
     "metadata": {},
     "output_type": "execute_result"
    }
   ],
   "source": [
    "a"
   ]
  },
  {
   "cell_type": "code",
   "execution_count": 11,
   "id": "5c3dccfc-07df-44c5-8c02-6106a759484c",
   "metadata": {},
   "outputs": [
    {
     "data": {
      "text/plain": [
       "array([20, 26, 15, 15, 23, 13, 24, 24, 17, 24])"
      ]
     },
     "execution_count": 11,
     "metadata": {},
     "output_type": "execute_result"
    }
   ],
   "source": [
    "np.flip(a)"
   ]
  },
  {
   "cell_type": "code",
   "execution_count": 12,
   "id": "bb82ea91-e700-4c48-919a-85631f5d0e14",
   "metadata": {},
   "outputs": [],
   "source": [
    "b = np.arange(12).reshape(3,4)"
   ]
  },
  {
   "cell_type": "code",
   "execution_count": 13,
   "id": "7f535c55-7f02-459f-ba66-1d4bcfcd6e58",
   "metadata": {},
   "outputs": [
    {
     "data": {
      "text/plain": [
       "array([[ 0,  1,  2,  3],\n",
       "       [ 4,  5,  6,  7],\n",
       "       [ 8,  9, 10, 11]])"
      ]
     },
     "execution_count": 13,
     "metadata": {},
     "output_type": "execute_result"
    }
   ],
   "source": [
    "b"
   ]
  },
  {
   "cell_type": "code",
   "execution_count": 16,
   "id": "fc9272e7-c304-4bc8-a024-dd880f35c908",
   "metadata": {},
   "outputs": [
    {
     "data": {
      "text/plain": [
       "array([[ 3,  2,  1,  0],\n",
       "       [ 7,  6,  5,  4],\n",
       "       [11, 10,  9,  8]])"
      ]
     },
     "execution_count": 16,
     "metadata": {},
     "output_type": "execute_result"
    }
   ],
   "source": [
    "np.flip(b,axis = 1)"
   ]
  },
  {
   "cell_type": "raw",
   "id": "fac23791-0880-42a3-9b3e-fbc5cc2bea11",
   "metadata": {},
   "source": [
    "np.put() : this function replaces specific elements of an array with given values of p_array.Array index works in flattened array."
   ]
  },
  {
   "cell_type": "code",
   "execution_count": 20,
   "id": "99570372-51b9-43a5-a5fe-ec4a0ec1575b",
   "metadata": {},
   "outputs": [
    {
     "data": {
      "text/plain": [
       "dtype('int32')"
      ]
     },
     "execution_count": 20,
     "metadata": {},
     "output_type": "execute_result"
    }
   ],
   "source": [
    "a.dtype"
   ]
  },
  {
   "cell_type": "code",
   "execution_count": 21,
   "id": "ec07d353-f982-4d18-836e-e239628fcdc6",
   "metadata": {},
   "outputs": [
    {
     "data": {
      "text/plain": [
       "array([24, 17, 24, 24, 13, 23, 15, 15, 26, 20])"
      ]
     },
     "execution_count": 21,
     "metadata": {},
     "output_type": "execute_result"
    }
   ],
   "source": [
    "a"
   ]
  },
  {
   "cell_type": "code",
   "execution_count": 24,
   "id": "2f1cc8b8-6a54-4c95-a624-088afe27732c",
   "metadata": {},
   "outputs": [],
   "source": [
    "np.put(a,[2,3],[48,50])  #this function makes permanent change in given array"
   ]
  },
  {
   "cell_type": "code",
   "execution_count": 25,
   "id": "a81eb62c-01b4-4410-bdcc-8e71cad7ad5a",
   "metadata": {},
   "outputs": [
    {
     "data": {
      "text/plain": [
       "array([24, 17, 48, 50, 13, 23, 15, 15, 26, 20])"
      ]
     },
     "execution_count": 25,
     "metadata": {},
     "output_type": "execute_result"
    }
   ],
   "source": [
    "a"
   ]
  },
  {
   "cell_type": "code",
   "execution_count": 26,
   "id": "ea897e26-ed04-48a2-96bd-e9ae38965ddd",
   "metadata": {},
   "outputs": [
    {
     "data": {
      "text/plain": [
       "array([24, 17, 50, 13, 23, 15, 15, 26, 20])"
      ]
     },
     "execution_count": 26,
     "metadata": {},
     "output_type": "execute_result"
    }
   ],
   "source": [
    "#np.delete() : it is used to delete the items from array\n",
    "np.delete(a,2)  #(array,index)"
   ]
  },
  {
   "cell_type": "code",
   "execution_count": 27,
   "id": "3c2e8207-bb05-43a0-9ab6-a19f142f751c",
   "metadata": {},
   "outputs": [
    {
     "data": {
      "text/plain": [
       "array([17, 48, 13, 23, 15, 15, 26, 20])"
      ]
     },
     "execution_count": 27,
     "metadata": {},
     "output_type": "execute_result"
    }
   ],
   "source": [
    "np.delete(a,[0,3])  #its temporary"
   ]
  },
  {
   "cell_type": "raw",
   "id": "7150f7dd-3ad0-4f30-a2d0-f37bca4a1933",
   "metadata": {},
   "source": [
    "Set functions:\n",
    "     1.np.union1d\n",
    "     2. np.intersect1d\n",
    "     3. np.setdiff1d\n",
    "     4. np.setxor1d  # remove common of both and kept others\n",
    "     5. np.in1d"
   ]
  },
  {
   "cell_type": "code",
   "execution_count": 28,
   "id": "a20b1e41-8689-4b62-a69b-cc6b1619f4fd",
   "metadata": {},
   "outputs": [
    {
     "data": {
      "text/plain": [
       "array([1, 2, 3, 4, 5, 6, 7])"
      ]
     },
     "execution_count": 28,
     "metadata": {},
     "output_type": "execute_result"
    }
   ],
   "source": [
    "a = np.array([1,2,3,4,5])\n",
    "b = np.array([3,4,5,6,7])\n",
    "np.union1d(a,b)"
   ]
  },
  {
   "cell_type": "code",
   "execution_count": 29,
   "id": "2c8a19a1-429c-427f-9373-e23b72572a8e",
   "metadata": {},
   "outputs": [
    {
     "data": {
      "text/plain": [
       "array([3, 4, 5])"
      ]
     },
     "execution_count": 29,
     "metadata": {},
     "output_type": "execute_result"
    }
   ],
   "source": [
    "np.intersect1d(a,b)"
   ]
  },
  {
   "cell_type": "code",
   "execution_count": 30,
   "id": "b0ed7e06-4ffb-49b1-9135-42faaecdfb5b",
   "metadata": {},
   "outputs": [
    {
     "data": {
      "text/plain": [
       "array([1, 2])"
      ]
     },
     "execution_count": 30,
     "metadata": {},
     "output_type": "execute_result"
    }
   ],
   "source": [
    "np.setdiff1d(a,b)"
   ]
  },
  {
   "cell_type": "code",
   "execution_count": 32,
   "id": "1458ca5d-a4e8-4708-b7b8-277a1cd47fc1",
   "metadata": {},
   "outputs": [
    {
     "data": {
      "text/plain": [
       "array([1, 2, 6, 7])"
      ]
     },
     "execution_count": 32,
     "metadata": {},
     "output_type": "execute_result"
    }
   ],
   "source": [
    "np.setxor1d(a,b)"
   ]
  },
  {
   "cell_type": "code",
   "execution_count": 33,
   "id": "41e80cf4-f826-4a03-bc86-dcc9c00012f3",
   "metadata": {},
   "outputs": [
    {
     "data": {
      "text/plain": [
       "array([False,  True, False, False, False])"
      ]
     },
     "execution_count": 33,
     "metadata": {},
     "output_type": "execute_result"
    }
   ],
   "source": [
    "np.in1d(a,2)"
   ]
  },
  {
   "cell_type": "code",
   "execution_count": 34,
   "id": "599137ae-b0ca-434c-b643-d35fd826515c",
   "metadata": {},
   "outputs": [
    {
     "data": {
      "text/plain": [
       "array([1, 2, 3, 4, 5])"
      ]
     },
     "execution_count": 34,
     "metadata": {},
     "output_type": "execute_result"
    }
   ],
   "source": [
    "a\n"
   ]
  },
  {
   "cell_type": "code",
   "execution_count": 38,
   "id": "beda7c9e-97c7-4399-9f2a-863d95f72317",
   "metadata": {},
   "outputs": [],
   "source": [
    "b = np.array([20,30,45,80,13,78,19])"
   ]
  },
  {
   "cell_type": "code",
   "execution_count": 39,
   "id": "358f2c8a-4e94-427f-bbc7-0540f8a2f7d2",
   "metadata": {},
   "outputs": [
    {
     "data": {
      "text/plain": [
       "array([20, 30, 45, 75, 20, 75, 20])"
      ]
     },
     "execution_count": 39,
     "metadata": {},
     "output_type": "execute_result"
    }
   ],
   "source": [
    "np.clip(b, a_min = 20 , a_max =75)"
   ]
  },
  {
   "cell_type": "code",
   "execution_count": null,
   "id": "2cdcc540-4c2c-48af-bb21-a25c17d493cf",
   "metadata": {},
   "outputs": [],
   "source": []
  }
 ],
 "metadata": {
  "kernelspec": {
   "display_name": "Python 3 (ipykernel)",
   "language": "python",
   "name": "python3"
  },
  "language_info": {
   "codemirror_mode": {
    "name": "ipython",
    "version": 3
   },
   "file_extension": ".py",
   "mimetype": "text/x-python",
   "name": "python",
   "nbconvert_exporter": "python",
   "pygments_lexer": "ipython3",
   "version": "3.11.7"
  }
 },
 "nbformat": 4,
 "nbformat_minor": 5
}
